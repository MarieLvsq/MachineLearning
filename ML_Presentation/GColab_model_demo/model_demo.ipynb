{
  "nbformat": 4,
  "nbformat_minor": 0,
  "metadata": {
    "colab": {
      "provenance": []
    },
    "kernelspec": {
      "name": "python3",
      "display_name": "Python 3"
    },
    "language_info": {
      "name": "python"
    }
  },
  "cells": [
    {
      "cell_type": "markdown",
      "source": [
        "Cell 1: Upload & Load Trained Model"
      ],
      "metadata": {
        "id": "jq49YsL4uAVd"
      }
    },
    {
      "cell_type": "code",
      "source": [
        "from google.colab import files\n",
        "from tensorflow.keras.models import load_model\n",
        "\n",
        "# Prompt to upload .h5 model file\n",
        "print(\"🗂️ Please upload your model file\")\n",
        "uploaded = files.upload()\n",
        "\n",
        "# Load the first uploaded file as model\n",
        "model_filename = list(uploaded.keys())[0]\n",
        "model = load_model(model_filename)\n",
        "print(f\"✅ Model loaded from '{model_filename}'\")"
      ],
      "metadata": {
        "id": "uwb6kgWetyjv"
      },
      "execution_count": null,
      "outputs": []
    },
    {
      "cell_type": "markdown",
      "source": [
        "Cell 2: Load CIFAR-10 Test Set"
      ],
      "metadata": {
        "id": "-iN9vnKGuQT-"
      }
    },
    {
      "cell_type": "code",
      "source": [
        "import numpy as np\n",
        "from tensorflow.keras.datasets import cifar10\n",
        "\n",
        "# Load and normalize\n",
        "(x_train, y_train), (x_test, y_test) = cifar10.load_data()\n",
        "x_test = x_test.astype(\"float32\") / 255.0\n",
        "y_test = y_test.flatten()\n",
        "\n",
        "# Class names for display\n",
        "class_names = ['airplane','automobile','bird','cat','deer',\n",
        "               'dog','frog','horse','ship','truck']\n",
        "\n",
        "print(f\"🔍 CIFAR‑10 test set loaded: {x_test.shape[0]} samples\")"
      ],
      "metadata": {
        "id": "dVq8xChmuWQK"
      },
      "execution_count": null,
      "outputs": []
    },
    {
      "cell_type": "markdown",
      "source": [
        "Cell 3: Random Sample Inference"
      ],
      "metadata": {
        "id": "Z4yqP_4muZ_v"
      }
    },
    {
      "cell_type": "code",
      "source": [
        "import matplotlib.pyplot as plt\n",
        "\n",
        "# Pick 8 random test images\n",
        "idxs = np.random.choice(len(x_test), size=8, replace=False)\n",
        "samples, labels = x_test[idxs], y_test[idxs]\n",
        "\n",
        "# Run inference\n",
        "preds = model.predict(samples).argmax(axis=1)\n",
        "\n",
        "# Plot GT vs. Pred\n",
        "plt.figure(figsize=(12,4))\n",
        "for i, (img, true, pred) in enumerate(zip(samples, labels, preds)):\n",
        "    ax = plt.subplot(2, 4, i+1)\n",
        "    plt.imshow(img)\n",
        "    color = 'green' if pred == true else 'red'\n",
        "    plt.title(f\"GT:{class_names[true]}\\nP:{class_names[pred]}\", color=color)\n",
        "    plt.axis('off')\n",
        "plt.tight_layout()\n",
        "plt.show()"
      ],
      "metadata": {
        "id": "c4xBSZqdudHu"
      },
      "execution_count": null,
      "outputs": []
    },
    {
      "cell_type": "markdown",
      "source": [
        "Cell 4: Full‑Set Metrics & Confusion Matrix"
      ],
      "metadata": {
        "id": "pYYB1XSVukqb"
      }
    },
    {
      "cell_type": "code",
      "source": [
        "from sklearn.metrics import classification_report, confusion_matrix\n",
        "import seaborn as sns\n",
        "\n",
        "# Predict on entire test set\n",
        "y_pred = model.predict(x_test).argmax(axis=1)\n",
        "\n",
        "# Classification report\n",
        "print(\"📊 Classification Report:\\n\")\n",
        "print(classification_report(y_test, y_pred, target_names=class_names))\n",
        "\n",
        "# Confusion matrix\n",
        "cm = confusion_matrix(y_test, y_pred)\n",
        "plt.figure(figsize=(8,6))\n",
        "sns.heatmap(cm, annot=True, fmt=\"d\", cmap=\"Blues\",\n",
        "            xticklabels=class_names, yticklabels=class_names)\n",
        "plt.xlabel(\"Predicted\")\n",
        "plt.ylabel(\"True\")\n",
        "plt.title(\"Confusion Matrix\")\n",
        "plt.show()"
      ],
      "metadata": {
        "id": "iN6t1E8muh5A"
      },
      "execution_count": null,
      "outputs": []
    },
    {
      "cell_type": "markdown",
      "source": [
        "Cell 5: Upload & Predict Your Own Image"
      ],
      "metadata": {
        "id": "sD15nxWSu6bi"
      }
    },
    {
      "cell_type": "code",
      "source": [
        "from PIL import Image\n",
        "\n",
        "print(\"🖼️ Upload a 32×32 PNG/JPG to classify\")\n",
        "uploaded_img = files.upload()\n",
        "\n",
        "for fn in uploaded_img:\n",
        "    # Load, resize & normalize\n",
        "    img = Image.open(fn).convert(\"RGB\").resize((32,32))\n",
        "    arr = np.array(img).astype(\"float32\") / 255.0\n",
        "\n",
        "    # Run prediction\n",
        "    pred = model.predict(arr[np.newaxis, ...]).argmax()\n",
        "\n",
        "    # Display\n",
        "    plt.figure(figsize=(3,3))\n",
        "    plt.imshow(arr)\n",
        "    plt.title(f\"Predicted: {class_names[pred]}\")\n",
        "    plt.axis(\"off\")\n",
        "    plt.show()"
      ],
      "metadata": {
        "id": "iI4WIMVMu_Fv"
      },
      "execution_count": null,
      "outputs": []
    }
  ]
}