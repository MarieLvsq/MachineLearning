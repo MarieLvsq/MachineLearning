{
  "cells": [
    {
      "cell_type": "markdown",
      "metadata": {
        "id": "view-in-github",
        "colab_type": "text"
      },
      "source": [
        "<a href=\"https://colab.research.google.com/github/MarieLvsq/MachineLearning/blob/master/CIFAR10_TransferLearning_ResNet50V2.ipynb\" target=\"_parent\"><img src=\"https://colab.research.google.com/assets/colab-badge.svg\" alt=\"Open In Colab\"/></a>"
      ]
    },
    {
      "cell_type": "code",
      "execution_count": null,
      "metadata": {
        "colab": {
          "base_uri": "https://localhost:8080/"
        },
        "id": "0MYfwPzq7VcP",
        "outputId": "f1d2b81b-c2e8-4b14-900f-0bc4637163d9"
      },
      "outputs": [
        {
          "output_type": "stream",
          "name": "stdout",
          "text": [
            "Downloading data from https://www.cs.toronto.edu/~kriz/cifar-10-python.tar.gz\n",
            "\u001b[1m170498071/170498071\u001b[0m \u001b[32m━━━━━━━━━━━━━━━━━━━━\u001b[0m\u001b[37m\u001b[0m \u001b[1m13s\u001b[0m 0us/step\n",
            "Downloading data from https://storage.googleapis.com/tensorflow/keras-applications/resnet/resnet50v2_weights_tf_dim_ordering_tf_kernels_notop.h5\n",
            "\u001b[1m94668760/94668760\u001b[0m \u001b[32m━━━━━━━━━━━━━━━━━━━━\u001b[0m\u001b[37m\u001b[0m \u001b[1m5s\u001b[0m 0us/step\n",
            "Epoch 1/10\n",
            "\u001b[1m352/352\u001b[0m \u001b[32m━━━━━━━━━━━━━━━━━━━━\u001b[0m\u001b[37m\u001b[0m \u001b[1m546s\u001b[0m 1s/step - accuracy: 0.1815 - loss: 2.2224 - val_accuracy: 0.3186 - val_loss: 1.8920\n",
            "Epoch 2/10\n",
            "\u001b[1m344/352\u001b[0m \u001b[32m━━━━━━━━━━━━━━━━━━━\u001b[0m\u001b[37m━\u001b[0m \u001b[1m11s\u001b[0m 1s/step - accuracy: 0.2799 - loss: 1.9550"
          ]
        }
      ],
      "source": [
        "# ✅ CIFAR-10 Transfer Learning with ResNet50V2 on Google Colab\n",
        "\n",
        "import tensorflow as tf\n",
        "import matplotlib.pyplot as plt\n",
        "from sklearn.model_selection import train_test_split\n",
        "\n",
        "# Load CIFAR-10 dataset\n",
        "(x_train_full, y_train_full), (x_test, y_test) = tf.keras.datasets.cifar10.load_data()\n",
        "x_train_full, x_test = x_train_full / 255.0, x_test / 255.0\n",
        "x_train, x_val, y_train, y_val = train_test_split(\n",
        "    x_train_full, y_train_full, test_size=5000, stratify=y_train_full, random_state=42\n",
        ")\n",
        "y_train = y_train.squeeze()\n",
        "y_val = y_val.squeeze()\n",
        "y_test = y_test.squeeze()\n",
        "\n",
        "# Data augmentation and resizing\n",
        "data_augment = tf.keras.Sequential([\n",
        "    tf.keras.layers.RandomFlip(\"horizontal\"),\n",
        "    tf.keras.layers.RandomTranslation(0.1, 0.1),\n",
        "    tf.keras.layers.RandomRotation(0.1),\n",
        "    tf.keras.layers.RandomContrast(0.1),\n",
        "])\n",
        "resize = tf.keras.layers.Resizing(224, 224)\n",
        "AUTOTUNE = tf.data.AUTOTUNE\n",
        "\n",
        "# tf.data pipelines\n",
        "def preprocess_train(x, y):\n",
        "    x = resize(x)\n",
        "    x = data_augment(x)\n",
        "    x = tf.keras.applications.resnet_v2.preprocess_input(x)\n",
        "    return x, y\n",
        "\n",
        "def preprocess_val(x, y):\n",
        "    x = resize(x)\n",
        "    x = tf.keras.applications.resnet_v2.preprocess_input(x)\n",
        "    return x, y\n",
        "\n",
        "train_ds = (\n",
        "    tf.data.Dataset.from_tensor_slices((x_train, y_train))\n",
        "    .shuffle(10000)\n",
        "    .map(preprocess_train, num_parallel_calls=AUTOTUNE)\n",
        "    .batch(128)\n",
        "    .prefetch(AUTOTUNE)\n",
        ")\n",
        "\n",
        "val_ds = (\n",
        "    tf.data.Dataset.from_tensor_slices((x_val, y_val))\n",
        "    .map(preprocess_val, num_parallel_calls=AUTOTUNE)\n",
        "    .batch(128)\n",
        "    .prefetch(AUTOTUNE)\n",
        ")\n",
        "\n",
        "# Build the model\n",
        "inp = tf.keras.Input(shape=(224, 224, 3))\n",
        "x = tf.keras.applications.ResNet50V2(include_top=False, weights=\"imagenet\", pooling=\"avg\")(inp)\n",
        "x = tf.keras.layers.Dense(512, activation=\"relu\")(x)\n",
        "x = tf.keras.layers.Dropout(0.5)(x)\n",
        "out = tf.keras.layers.Dense(10, activation=\"softmax\")(x)\n",
        "model = tf.keras.Model(inputs=inp, outputs=out)\n",
        "\n",
        "# Phase 1: Train classifier head (frozen ResNet)\n",
        "model.layers[1].trainable = False  # ResNet50V2\n",
        "\n",
        "model.compile(optimizer=tf.keras.optimizers.Adam(1e-3),\n",
        "              loss=\"sparse_categorical_crossentropy\",\n",
        "              metrics=[\"accuracy\"])\n",
        "\n",
        "history_frozen = model.fit(train_ds, validation_data=val_ds, epochs=10);\n",
        "model.save(\"frozen_model.h5\");  # Save after phase 1\n",
        "\n",
        "# Plot Phase 1\n",
        "plt.plot(history_frozen.history[\"accuracy\"], label=\"Train Acc (Frozen)\")\n",
        "plt.plot(history_frozen.history[\"val_accuracy\"], label=\"Val Acc (Frozen)\")\n",
        "plt.xlabel(\"Epochs\"); plt.ylabel(\"Accuracy\"); plt.legend(); plt.show()"
      ]
    },
    {
      "cell_type": "code",
      "execution_count": null,
      "metadata": {
        "id": "GaRFugFi7VcU"
      },
      "outputs": [],
      "source": [
        "# Phase 2: Fine-tuning\n",
        "\n",
        "# Load model and unfreeze top 50 layers\n",
        "model = tf.keras.models.load_model(\"frozen_model.h5\")\n",
        "base_model = model.layers[1]  # ResNet50V2\n",
        "for layer in base_model.layers[-50:]:\n",
        "    layer.trainable = True\n",
        "\n",
        "# Compile with lower learning rate\n",
        "model.compile(optimizer=tf.keras.optimizers.Adam(1e-4),\n",
        "              loss=\"sparse_categorical_crossentropy\",\n",
        "              metrics=[\"accuracy\"])\n",
        "\n",
        "# Callbacks\n",
        "callbacks = [\n",
        "    tf.keras.callbacks.EarlyStopping(patience=5, restore_best_weights=True),\n",
        "    tf.keras.callbacks.ReduceLROnPlateau(factor=0.5, patience=3)\n",
        "]\n",
        "\n",
        "# Fine-tune\n",
        "history_fine = model.fit(train_ds, validation_data=val_ds, epochs=20, callbacks=callbacks)\n",
        "\n",
        "# Plot Phase 2\n",
        "plt.plot(history_fine.history[\"accuracy\"], label=\"Train Acc (Fine-Tuned)\")\n",
        "plt.plot(history_fine.history[\"val_accuracy\"], label=\"Val Acc (Fine-Tuned)\")\n",
        "plt.xlabel(\"Epochs\"); plt.ylabel(\"Accuracy\"); plt.legend(); plt.show()\n",
        "\n",
        "# Evaluate on test set\n",
        "test_ds = (\n",
        "    tf.data.Dataset.from_tensor_slices((x_test, y_test))\n",
        "    .map(preprocess_val)\n",
        "    .batch(128)\n",
        "    .prefetch(AUTOTUNE)\n",
        ")\n",
        "loss, acc = model.evaluate(test_ds)\n",
        "print(f\"Test Accuracy: {acc:.4f}\")"
      ]
    }
  ],
  "metadata": {
    "colab": {
      "provenance": [],
      "toc_visible": true,
      "gpuType": "T4",
      "include_colab_link": true
    },
    "kernelspec": {
      "display_name": "Python 3",
      "name": "python3"
    },
    "language_info": {
      "name": "python"
    },
    "accelerator": "GPU"
  },
  "nbformat": 4,
  "nbformat_minor": 0
}